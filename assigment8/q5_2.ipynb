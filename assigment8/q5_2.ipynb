{
 "cells": [
  {
   "cell_type": "code",
   "execution_count": 27,
   "metadata": {},
   "outputs": [],
   "source": [
    "\n",
    "import pymongo\n",
    "import time\n",
    "import pandas as pd\n",
    "myclient = pymongo.MongoClient(\"mongodb://localhost:27017/\")\n",
    "mydb = myclient[\"IMDB\"]\n",
    "action=mydb['Action_clusters']\n"
   ]
  },
  {
   "cell_type": "code",
   "execution_count": 58,
   "metadata": {},
   "outputs": [
    {
     "name": "stdout",
     "output_type": "stream",
     "text": [
      "         startYear   avgrating\n",
      "count   155.000000  155.000000\n",
      "mean   2007.109677    7.287742\n",
      "std       2.511190    0.215725\n",
      "min    2002.000000    7.000000\n",
      "25%    2005.000000    7.100000\n",
      "50%    2007.000000    7.300000\n",
      "75%    2009.000000    7.500000\n",
      "max    2011.000000    7.700000\n"
     ]
    }
   ],
   "source": [
    "myquery1=[\n",
    "    {\n",
    "        '$match': {\n",
    "            'cluster': 20\n",
    "        }\n",
    "    }\n",
    "]\n",
    "mydoc = action.aggregate(myquery1)\n",
    "\n",
    "df=pd.DataFrame(list(mydoc))\n",
    "print(df[[ 'startYear',\n",
    "       'avgrating']].describe())"
   ]
  },
  {
   "cell_type": "code",
   "execution_count": 47,
   "metadata": {},
   "outputs": [
    {
     "data": {
      "text/plain": [
       "Index(['_id', 'type', 'title', 'originaltitle', 'startYear', 'runtime',\n",
       "       'avgrating', 'numvotes', 'genres', 'actors', 'directors', 'producers',\n",
       "       'writers', 'kmeansNorm', 'cluster'],\n",
       "      dtype='object')"
      ]
     },
     "execution_count": 47,
     "metadata": {},
     "output_type": "execute_result"
    }
   ],
   "source": []
  },
  {
   "cell_type": "code",
   "execution_count": 44,
   "metadata": {},
   "outputs": [
    {
     "name": "stdout",
     "output_type": "stream",
     "text": [
      "['Fullmetal Alchemist the Movie: Conqueror of Shamballa', 'House of Flying Daggers', 'War of the Arrows', 'Enthiran', 'Redline', 'OSS 117: Cairo, Nest of Spies', 'Dookudu', 'The Legend Is Born: Ip Man', 'Ayan', 'Summer Wars', 'Pokkiri', 'Black Dynamite', 'Ong-Bak: The Thai Warrior', 'The Protector', 'Chocolate', 'Ip Man 2', 'Ghajini', 'Bronson', 'Harry Brown', 'Megamind', 'Tekkonkinkreet', 'Source Code', 'Law Abiding Citizen', 'Celda 211', '9', 'Sarkar', 'Mongol: The Rise of Genghis Khan', 'Rise of the Planet of the Apes', 'Real Steel', 'Ghajini', '36th Precinct', \"Gangster's Paradise: Jerusalema\", '13 Assassins', 'Sherlock Holmes: A Game of Shadows', 'Death Proof', 'Golmaal: Fun Unlimited', 'In Your Name', 'Son of Rambow', 'Headhunters', 'Cloverfield', 'Mission: Impossible - Ghost Protocol', 'Super 8', 'Kick-Ass', 'Running Scared', 'Flame & Citron', 'RocknRolla', '9th Company', 'Appleseed', 'Kill Zone', 'Dragon', 'Don', 'The Yellow Sea', 'Spider-Man', 'Curse of the Golden Flower', 'Rocky Balboa', 'Open Range', 'New Police Story', 'Rambo', 'Dhamaal', 'The Girl Who Played with Fire', 'The Kingdom', 'A History of Violence', 'Shinjuku Incident', 'Traitor', 'X2: X-Men United', 'Jodhaa Akbar', 'Aamir', 'Kaminey', 'Oye Lucky! Lucky Oye!', 'Don 2', 'Mesrine: Public Enemy No. 1', 'The Life Aquatic with Steve Zissou', 'Team America: World Police', 'Dawn of the Dead', 'Fast Five', 'Underworld', 'Hellboy II: The Golden Army', 'Collateral', 'Layer Cake', 'Zombieland', 'Scott Pilgrim vs. the World', 'Evangelion: 1.0 You Are (Not) Alone', 'Harry Potter and the Order of the Phoenix', 'A Bittersweet Life', 'The Next Three Days', 'Public Enemies', 'Munich', 'Tropic Thunder', 'We Were Soldiers', 'Star Wars: Episode III - Revenge of the Sith', 'Brick', 'The Blind Swordsman: Zatoichi', 'Sivaji', 'Flags of Our Fathers', 'Watchmen', 'United 93', 'Micmacs', 'Mesrine: Killer Instinct', '3:10 to Yuma', 'Fearless', 'Rango', 'Shooter', 'Main Hoon Na', 'Khakee', 'Shootout at Lokhandwala', 'Once Upon a Time in Mumbaai', \"King of Devil's Island\", 'Max Manus: Man of War', 'Harry Potter and the Half-Blood Prince', 'Master and Commander: The Far Side of the World', 'Live Free or Die Hard', 'Equilibrium', 'Constantine', 'RED', 'Transformers', 'The Italian Job', 'Body of Lies', 'I, Robot', 'Pusher II', 'Kung Fu Panda 2', 'Fanaa', 'The Good the Bad the Weird', 'Unleashed', 'Red Cliff', 'Red Cliff II', 'Days of Glory', 'Defiance', 'King Kong', 'Planet Terror', 'Magadheera', 'The Matrix Reloaded', 'War Horse', 'Friday Night Lights', '300', 'The Adventures of Tintin', \"Pirates of the Caribbean: Dead Man's Chest\", \"Pirates of the Caribbean: At World's End\", 'Deja Vu', 'Koi... Mil Gaya', 'Spider-Man 2', 'Kingdom of Heaven', 'Infernal Affairs II', 'Final Fantasy VII: Advent Children', 'District B13', 'Kung Fu Panda', 'Grindhouse', 'I Am Legend', 'Jackass Number Two', 'The Baader Meinhof Complex', 'Thor', 'The Warlords', 'Sherlock Holmes', 'Jackass 3D', 'JCVD', 'Let the Bullets Fly']\n"
     ]
    }
   ],
   "source": [
    "\n",
    "print(list(df[\"title\"]))"
   ]
  },
  {
   "cell_type": "code",
   "execution_count": 59,
   "metadata": {},
   "outputs": [
    {
     "name": "stdout",
     "output_type": "stream",
     "text": [
      "         startYear  avgrating\n",
      "count    42.000000  42.000000\n",
      "mean   1960.404762   7.361905\n",
      "std       4.333981   0.478795\n",
      "min    1951.000000   6.300000\n",
      "25%    1957.250000   7.100000\n",
      "50%    1960.000000   7.250000\n",
      "75%    1963.750000   7.700000\n",
      "max    1968.000000   8.500000\n"
     ]
    }
   ],
   "source": [
    "horror=mydb['Horror_clusters']\n",
    "myquery1=[\n",
    "    {\n",
    "        '$match': {\n",
    "            'cluster': 1\n",
    "        }\n",
    "    }\n",
    "]\n",
    "mydoc = horror.aggregate(myquery1)\n",
    "df=pd.DataFrame(list(mydoc))\n",
    "print(df[[ 'startYear',\n",
    "       'avgrating']].describe())"
   ]
  },
  {
   "cell_type": "code",
   "execution_count": 51,
   "metadata": {},
   "outputs": [
    {
     "name": "stdout",
     "output_type": "stream",
     "text": [
      "['Them!', 'Kwaidan', 'Night of the Living Dead', 'Blood and Black Lace', 'Onibaba', 'The Last Man on Earth', 'Quatermass and the Pit', 'The Incredible Shrinking Man', 'The Curse of Frankenstein', 'Horror of Dracula', 'The Hound of the Baskervilles', 'The Blob', 'Repulsion', 'The Fearless Vampire Killers', 'House of Wax', \"Rosemary's Baby\", 'Hour of the Wolf', 'Curse of the Demon', 'The Thing from Another World', 'Creature from the Black Lagoon', 'Diabolique', 'Godzilla', 'The Bad Seed', 'Invasion of the Body Snatchers', 'The Fly', 'House on Haunted Hill', 'Eyes Without a Face', 'House of Usher', 'The Little Shop of Horrors', 'Black Sunday', 'Peeping Tom', 'Psycho', 'Village of the Damned', 'The Innocents', 'The Pit and the Pendulum', 'Carnival of Souls', 'What Ever Happened to Baby Jane?', 'The Birds', 'The Haunting', 'The Raven', 'Black Sabbath', 'The Masque of the Red Death']\n"
     ]
    }
   ],
   "source": [
    "\n",
    "print(list(df[\"title\"]))"
   ]
  },
  {
   "cell_type": "code",
   "execution_count": 60,
   "metadata": {},
   "outputs": [
    {
     "name": "stdout",
     "output_type": "stream",
     "text": [
      "         startYear  avgrating\n",
      "count    84.000000  84.000000\n",
      "mean   2015.023810   7.745238\n",
      "std       2.899839   0.275683\n",
      "min    2009.000000   7.400000\n",
      "25%    2012.750000   7.500000\n",
      "50%    2015.000000   7.700000\n",
      "75%    2017.000000   7.900000\n",
      "max    2021.000000   8.600000\n"
     ]
    }
   ],
   "source": [
    "romance=mydb['Romance_clusters']\n",
    "myquery1=[\n",
    "    {\n",
    "        '$match': {\n",
    "            'cluster': 27\n",
    "        }\n",
    "    }\n",
    "]\n",
    "mydoc = romance.aggregate(myquery1)\n",
    "df=pd.DataFrame(list(mydoc))\n",
    "print(df[[ 'startYear',\n",
    "       'avgrating']].describe())"
   ]
  },
  {
   "cell_type": "code",
   "execution_count": 53,
   "metadata": {},
   "outputs": [
    {
     "name": "stdout",
     "output_type": "stream",
     "text": [
      "['Highway', 'Gully Boy', 'October', 'Never Look Away', 'Arjun Reddy', 'Telling Tales', '96', 'Champion', 'Sanam Teri Kasam', 'Shaadi Mein Zaroor Aana', 'Victoria', 'Bareilly Ki Barfi', 'Charlie', 'You Are the Apple of My Eye', 'Maudie', 'The Worst Person in the World', 'And Then We Danced', \"God's Own Country\", 'Vicky Donor', 'Kumbalangi Nights', 'Geetha Govindam', 'Raanjhanaa', \"Losers' Club\", 'The Lunchbox', 'A Man Called Ove', 'Miss Lovely', 'Before Midnight', 'The Garden of Words', 'Barfi!', 'The Miracle', 'Sairat', 'Her', 'Phantom Thread', 'Dear Zindagi', 'Rockstar', 'Tanu Weds Manu Returns', 'Weekend', 'Palm Trees in the Snow', 'The Way He Looks', 'Pyaar Ka Punchnama', 'Moonrise Kingdom', 'The Fault in Our Stars', 'Love, Simon', 'Paterson', 'Shiddat', 'Frances Ha', 'Licorice Pizza', 'Premam', 'Call Me by Your Name', 'Dum Laga Ke Haisha', 'Waves', 'The Art of Racing in the Rain', '50/50', 'Me Before You', 'The Beautiful Risk', 'The Handmaiden', 'I', 'Blue Is the Warmest Colour', 'Portrait of a Lady on Fire', 'Omar', 'Midnight in Paris', 'Little Women', 'The Flowers of War', 'Coming Soon', 'The Perks of Being a Wallflower', 'Brooklyn', 'I Origins', 'Chhichhore', 'The Big Sick', 'The Artist', 'Laurence Anyways', 'The Broken Circle Breakdown', 'Marriage Story', 'Silver Linings Playbook', 'The Theory of Everything', 'Holding the Man', 'Rust and Bone', 'The Secret in Their Eyes', 'A Star Is Born', 'Les Misérables', 'Free Fall', 'Bangalore Days', 'Frantz', 'Dil Bechara']\n"
     ]
    }
   ],
   "source": [
    "\n",
    "print(list(df[\"title\"]))"
   ]
  },
  {
   "cell_type": "code",
   "execution_count": 61,
   "metadata": {},
   "outputs": [
    {
     "name": "stdout",
     "output_type": "stream",
     "text": [
      "         startYear  avgrating\n",
      "count    25.000000  25.000000\n",
      "mean   2018.440000   7.108000\n",
      "std       1.959592   0.264449\n",
      "min    2015.000000   6.700000\n",
      "25%    2017.000000   6.900000\n",
      "50%    2019.000000   7.000000\n",
      "75%    2020.000000   7.300000\n",
      "max    2021.000000   7.500000\n"
     ]
    }
   ],
   "source": [
    "scifi=mydb['Sci-Fi_clusters']\n",
    "myquery1=[\n",
    "    {\n",
    "        '$match': {\n",
    "            'cluster': 3\n",
    "        }\n",
    "    }\n",
    "]\n",
    "mydoc = scifi.aggregate(myquery1)\n",
    "df=pd.DataFrame(list(mydoc))\n",
    "print(df[[ 'startYear',\n",
    "       'avgrating']].describe())"
   ]
  },
  {
   "cell_type": "code",
   "execution_count": 55,
   "metadata": {},
   "outputs": [
    {
     "name": "stdout",
     "output_type": "stream",
     "text": [
      "['First Signal', '10 Cloverfield Lane', 'Titane', 'Le chant du loup', 'The Platform', 'Passengers', 'Upgrade', 'Ready Player One', 'Tenet', 'Finch', \"Don't Look Up\", 'Alita: Battle Angel', 'Boss Level', 'A Quiet Place', 'A Quiet Place Part II', 'Black Panther', 'Avengers: Age of Ultron', 'Black Widow', 'Captain Marvel', 'Spider-Man: Far from Home', 'Jurassic World', 'Solo: A Star Wars Story', 'Spider-Man: Homecoming', 'Star Trek Beyond', 'X-Men: Apocalypse']\n"
     ]
    }
   ],
   "source": [
    "print(list(df[\"title\"]))"
   ]
  },
  {
   "cell_type": "code",
   "execution_count": 62,
   "metadata": {},
   "outputs": [
    {
     "name": "stdout",
     "output_type": "stream",
     "text": [
      "         startYear  avgrating\n",
      "count    39.000000  39.000000\n",
      "mean   1970.051282   6.851282\n",
      "std       4.406626   0.352339\n",
      "min    1953.000000   5.400000\n",
      "25%    1967.500000   6.700000\n",
      "50%    1971.000000   6.900000\n",
      "75%    1973.000000   7.150000\n",
      "max    1976.000000   7.300000\n"
     ]
    }
   ],
   "source": [
    "thriller=mydb['Thriller_clusters']\n",
    "myquery1=[\n",
    "    {\n",
    "        '$match': {\n",
    "            'cluster': 32\n",
    "        }\n",
    "    }\n",
    "]\n",
    "mydoc = thriller.aggregate(myquery1)\n",
    "df=pd.DataFrame(list(mydoc))\n",
    "print(df[[ 'startYear',\n",
    "       'avgrating']].describe())"
   ]
  },
  {
   "cell_type": "code",
   "execution_count": 57,
   "metadata": {},
   "outputs": [
    {
     "name": "stdout",
     "output_type": "stream",
     "text": [
      "['The Odessa File', 'The Eagle Has Landed', 'Cul-de-sac', 'Mean Streets', 'THX 1138', 'The Chase', 'Vanishing Point', \"On Her Majesty's Secret Service\", 'Diamonds Are Forever', 'Live and Let Die', 'The Man with the Golden Gun', 'Ice Station Zebra', 'Sisters', 'Blood and Black Lace', 'Coffy', 'Obsession', 'Westworld', 'Airport', 'Shaft', 'Foxy Brown', 'Play Misty for Me', 'The Mechanic', 'You Only Live Twice', 'Point Blank', 'The Bird with the Crystal Plumage', \"The Cat o' Nine Tails\", 'Lord of the Flies', 'The Towering Inferno', 'Fear and Desire', 'The Ipcress File', 'Thunderball', 'Torn Curtain', 'Topaz', 'The Andromeda Strain', 'The Beguiled', 'Klute', 'A Bay of Blood', 'The Parallax View', 'The Enforcer']\n"
     ]
    }
   ],
   "source": [
    "print(list(df[\"title\"]))"
   ]
  },
  {
   "cell_type": "code",
   "execution_count": null,
   "metadata": {},
   "outputs": [],
   "source": []
  }
 ],
 "metadata": {
  "kernelspec": {
   "display_name": "Python 3",
   "language": "python",
   "name": "python3"
  },
  "language_info": {
   "codemirror_mode": {
    "name": "ipython",
    "version": 3
   },
   "file_extension": ".py",
   "mimetype": "text/x-python",
   "name": "python",
   "nbconvert_exporter": "python",
   "pygments_lexer": "ipython3",
   "version": "3.8.3"
  }
 },
 "nbformat": 4,
 "nbformat_minor": 4
}
